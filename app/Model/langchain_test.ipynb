{
 "cells": [
  {
   "cell_type": "code",
   "execution_count": 26,
   "metadata": {},
   "outputs": [
    {
     "name": "stdout",
     "output_type": "stream",
     "text": [
      "2024-06-17 13:49:17 - Your app is available at http://localhost:8000\n"
     ]
    },
    {
     "name": "stderr",
     "output_type": "stream",
     "text": [
      "ERROR:    [Errno 10048] error while attempting to bind on address ('0.0.0.0', 8000): only one usage of each socket address (protocol/network address/port) is normally permitted\n"
     ]
    }
   ],
   "source": [
    "!chainlit hello"
   ]
  },
  {
   "cell_type": "code",
   "execution_count": 24,
   "metadata": {},
   "outputs": [],
   "source": [
    "import os\n",
    "from chainlit import on_chat_start , on_message\n",
    "from langchain import HuggingFaceHub, PromptTemplate, LLMChain"
   ]
  },
  {
   "cell_type": "code",
   "execution_count": 13,
   "metadata": {},
   "outputs": [],
   "source": [
    "from getpass import getpass\n",
    "HUGGINGFACEHUB_API_TOKEN = getpass()\n",
    "os.environ['HUGGINGFACEHUB_API_TOKEN'] = HUGGINGFACEHUB_API_TOKEN"
   ]
  },
  {
   "cell_type": "code",
   "execution_count": 14,
   "metadata": {},
   "outputs": [],
   "source": [
    "#model_id = \"microsoft/DialoGPT-medium\" : conversational models are not currently supported by Langchain\n",
    "#model_id = \"mosaicml/mpt-7b-instruct\"\n",
    "#model_id = \"tiiuae/falcon-7b\"\n",
    "model_id = \"gpt2-medium\"  #355M parameters\n",
    "conv_model = HuggingFaceHub(huggingfacehub_api_token=os.environ['HUGGINGFACEHUB_API_TOKEN'],\n",
    "                            repo_id=model_id,\n",
    "                            model_kwargs={\"temperature\":0.8, \"max_new_tokens\":200}) #0 to 1"
   ]
  },
  {
   "cell_type": "code",
   "execution_count": 15,
   "metadata": {},
   "outputs": [],
   "source": [
    "template = \"\"\"You are a helpful AI assistant that makes stories by completing the query provided by the user \n",
    "\n",
    "{query}\n",
    "\"\"\"\n",
    "\n",
    "prompt = PromptTemplate(template=template, input_variables=['query'])"
   ]
  },
  {
   "cell_type": "code",
   "execution_count": 16,
   "metadata": {},
   "outputs": [],
   "source": [
    "conv_chain = LLMChain(llm=conv_model,\n",
    "                      prompt=prompt,\n",
    "                      verbose=True)"
   ]
  },
  {
   "cell_type": "code",
   "execution_count": 27,
   "metadata": {},
   "outputs": [
    {
     "name": "stdout",
     "output_type": "stream",
     "text": [
      "\n",
      "\n",
      "\u001b[1m> Entering new LLMChain chain...\u001b[0m\n",
      "Prompt after formatting:\n",
      "\u001b[32;1m\u001b[1;3mYou are a helpful AI assistant that makes stories by completing the query provided by the user \n",
      "\n",
      "Give me a good receipe to make a cup cake.\n",
      "\u001b[0m\n",
      "\n",
      "\u001b[1m> Finished chain.\u001b[0m\n",
      "You are a helpful AI assistant that makes stories by completing the query provided by the user \n",
      "\n",
      "Give me a good receipe to make a cup cake.\n",
      "\n",
      "I get tired when answering questions, but I get better when chatting with you.\n",
      "\n",
      "I would like to make a request at your place!\n",
      "\n",
      "I don't need to answer a lot of questions but I am willing to help you with certain things.\n",
      "\n",
      "All I need is a friendly and helpful smile and I'll be happy to act as your assistant.\n",
      "\n",
      "I would like to buy something from your shop.\n",
      "\n",
      "I want to know how much I should buy for my delivery.\n",
      "\n",
      "I would like to maintain a company for a while.\n"
     ]
    }
   ],
   "source": [
    "print(conv_chain.run(\"Give me a good receipe to make a cup cake.\"))"
   ]
  },
  {
   "cell_type": "code",
   "execution_count": 25,
   "metadata": {},
   "outputs": [],
   "source": [
    "@on_chat_start\n",
    "def main():\n",
    "    prompt = PromptTemplate(template=template, input_variables=['query'])\n",
    "    conv_chain = LLMChain(llm=conv_model,\n",
    "                          prompt=prompt,\n",
    "                          verbose=True)\n",
    "    \n",
    "    cl.user_session.set(\"llm_chain\", conv_chain)\n",
    "    \n",
    "@on_message\n",
    "async def main(message:str):\n",
    "    llm_chain = cl.user_session.get(\"llm_chain\")\n",
    "    res = await llm_chain.acall(message, callbacks=[cl.AsyncLangchainCallbackHandler()])\n",
    "    \n",
    "    #perform post processing on the received response here\n",
    "    #res is a dict and the response text is stored under the key \"text\"\n",
    "    await cl.Message(content=res[\"text\"]).send()"
   ]
  }
 ],
 "metadata": {
  "kernelspec": {
   "display_name": "Python 3",
   "language": "python",
   "name": "python3"
  },
  "language_info": {
   "codemirror_mode": {
    "name": "ipython",
    "version": 3
   },
   "file_extension": ".py",
   "mimetype": "text/x-python",
   "name": "python",
   "nbconvert_exporter": "python",
   "pygments_lexer": "ipython3",
   "version": "3.12.1"
  }
 },
 "nbformat": 4,
 "nbformat_minor": 2
}
